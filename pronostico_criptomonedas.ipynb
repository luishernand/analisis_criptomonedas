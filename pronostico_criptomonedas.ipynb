{
  "nbformat": 4,
  "nbformat_minor": 0,
  "metadata": {
    "colab": {
      "name": "pronostico criptomonedas.ipynb",
      "provenance": [],
      "private_outputs": true,
      "collapsed_sections": []
    },
    "kernelspec": {
      "name": "python3",
      "display_name": "Python 3"
    }
  },
  "cells": [
    {
      "cell_type": "markdown",
      "metadata": {
        "id": "RgR-ft-pYv5o",
        "colab_type": "text"
      },
      "source": [
        "![alt text](https://github.com/luishernand/pandas_fundamentals/blob/master/logo4.JPG?raw=true\")  \n",
        "\n",
        "|fecha|Email|\n",
        "|-----|-----|\n",
        "|20 de mayo 2020|luishernandezmatos@yahoo.com|"
      ]
    },
    {
      "cell_type": "markdown",
      "metadata": {
        "id": "qFq8i_AkZ669",
        "colab_type": "text"
      },
      "source": [
        "#  Análisis y Pronosticos de cripto moneda con fbprophet   \n",
        "\n",
        "**Descripción:**   \n",
        " Análisis de las diferentes cryptomoneda Bitcoin y sus predcciones"
      ]
    },
    {
      "cell_type": "code",
      "metadata": {
        "id": "E5OCR80dYpMW",
        "colab_type": "code",
        "colab": {}
      },
      "source": [
        "import numpy as np\n",
        "import pandas as pd\n",
        "import matplotlib.pyplot as plt\n",
        "import seaborn as sns\n",
        "%matplotlib inline"
      ],
      "execution_count": 0,
      "outputs": []
    },
    {
      "cell_type": "markdown",
      "metadata": {
        "id": "R2a4h8rKaIaL",
        "colab_type": "text"
      },
      "source": [
        "#load Datasets"
      ]
    },
    {
      "cell_type": "code",
      "metadata": {
        "id": "qKCU2rAYZMNU",
        "colab_type": "code",
        "colab": {}
      },
      "source": [
        "from google.colab import files\n",
        "uploaded = files.upload()"
      ],
      "execution_count": 0,
      "outputs": []
    },
    {
      "cell_type": "code",
      "metadata": {
        "id": "qQkP6OVGbJj5",
        "colab_type": "code",
        "colab": {}
      },
      "source": [
        "btc = pd.read_csv('BTC_USD_2019-05-14_2020-05-13-CoinDesk.csv')\n",
        "ltc = pd.read_csv('LTC_USD_2019-05-14_2020-05-13-CoinDesk.csv')\n",
        "eth = pd.read_csv('ETH_USD_2019-05-14_2020-05-13-CoinDesk.csv')"
      ],
      "execution_count": 0,
      "outputs": []
    },
    {
      "cell_type": "code",
      "metadata": {
        "id": "Ke42iHjtc-sQ",
        "colab_type": "code",
        "colab": {}
      },
      "source": [
        "print('Bitcoin')\n",
        "btc.head(2)"
      ],
      "execution_count": 0,
      "outputs": []
    },
    {
      "cell_type": "code",
      "metadata": {
        "id": "I_5jBSPvc_RB",
        "colab_type": "code",
        "colab": {}
      },
      "source": [
        "print('Litecoin')\n",
        "ltc.head(2)"
      ],
      "execution_count": 0,
      "outputs": []
    },
    {
      "cell_type": "code",
      "metadata": {
        "id": "F4LUpgRuc_f2",
        "colab_type": "code",
        "colab": {}
      },
      "source": [
        "print('ETH')\n",
        "eth.head(2)"
      ],
      "execution_count": 0,
      "outputs": []
    },
    {
      "cell_type": "markdown",
      "metadata": {
        "id": "LbJnHTEwdr7v",
        "colab_type": "text"
      },
      "source": [
        "### Visualización"
      ]
    },
    {
      "cell_type": "code",
      "metadata": {
        "id": "-3fcsjPTc_nn",
        "colab_type": "code",
        "colab": {}
      },
      "source": [
        "plt.figure(figsize=(12.5,4.5))\n",
        "plt.plot(btc['Closing Price (USD)'], label= 'BTC')\n",
        "plt.plot(ltc['Closing Price (USD)'], label='LTC')\n",
        "plt.plot(eth['Closing Price (USD)'], label='ETH')\n",
        "plt.title(\"Precio de cierre de criptomonedas \")\n",
        "plt.xlabel('del 1 de mayo 2019, hasta el 14 de mayo 2020')\n",
        "plt.ylabel('Precio de cierre en USD$')\n",
        "plt.legend(loc='upper left')\n",
        "plt.show()"
      ],
      "execution_count": 0,
      "outputs": []
    },
    {
      "cell_type": "markdown",
      "metadata": {
        "id": "Eqmh6wUOfZ68",
        "colab_type": "text"
      },
      "source": [
        "**<font color = red> El precio de las acciones del ETH y del LTC no tienen las mismas escalas de valores ya que el Bitcoin tiene un valor de cierre mayor lo podemos notar en la siguiete estadística basica\"**"
      ]
    },
    {
      "cell_type": "markdown",
      "metadata": {
        "id": "ZWY_VkDCgHqq",
        "colab_type": "text"
      },
      "source": [
        "# Transformar los datos  \n",
        "1. [x] seleccionar y renombrar las columnas de cada datasets  \n",
        "  +  [x] Closing Price (USD)\tto BTC.\n",
        "  + [x] Closing Price (USD)\tto LTC.\n",
        "  + [x] Closing Price (USD)\tto LTC.\n",
        "1. [x] Unir los tres archivos\n",
        "1. [x] Estandarizar los datos MinMAxScaler\n",
        "  + [x] Convertir los datos en DataFrame\n",
        "1. [x] Visualizar los datos escaldados o normalizados"
      ]
    },
    {
      "cell_type": "code",
      "metadata": {
        "id": "z8_kfMBlfOew",
        "colab_type": "code",
        "colab": {}
      },
      "source": [
        "# seleccionar y renombrar las columnas BTC\n",
        "\n",
        "btc = btc[['Closing Price (USD)']]\n",
        "btc.columns = ['BTC']\n",
        "btc.head()"
      ],
      "execution_count": 0,
      "outputs": []
    },
    {
      "cell_type": "code",
      "metadata": {
        "id": "NDT86fuEh542",
        "colab_type": "code",
        "colab": {}
      },
      "source": [
        "# seleccionar y renombrar las columnas LTC\n",
        "\n",
        "ltc = ltc[['Closing Price (USD)']]\n",
        "ltc.columns = ['LTC']\n",
        "ltc.head()"
      ],
      "execution_count": 0,
      "outputs": []
    },
    {
      "cell_type": "code",
      "metadata": {
        "id": "qF76ZP7jiLph",
        "colab_type": "code",
        "colab": {}
      },
      "source": [
        "# seleccionar y renombrar las columnas ETH\n",
        "\n",
        "eth= eth[['Closing Price (USD)']]\n",
        "eth.columns = ['ETH']\n",
        "eth.head()"
      ],
      "execution_count": 0,
      "outputs": []
    },
    {
      "cell_type": "code",
      "metadata": {
        "id": "mr7AzJwtircy",
        "colab_type": "code",
        "colab": {}
      },
      "source": [
        "# unir los archivos\n",
        "df = pd.concat([btc, ltc, eth], axis = 'columns')\n",
        "df.head()"
      ],
      "execution_count": 0,
      "outputs": []
    },
    {
      "cell_type": "code",
      "metadata": {
        "id": "Nctg8qfai9Cu",
        "colab_type": "code",
        "colab": {}
      },
      "source": [
        "df.describe()"
      ],
      "execution_count": 0,
      "outputs": []
    },
    {
      "cell_type": "code",
      "metadata": {
        "id": "-zbram18i_DZ",
        "colab_type": "code",
        "colab": {}
      },
      "source": [
        "#Estandarización de los datos\n",
        "\n",
        "from sklearn.preprocessing import  MinMaxScaler\n",
        "minmax = MinMaxScaler(feature_range = (0, 100))\n",
        "scaled = minmax.fit_transform(df)"
      ],
      "execution_count": 0,
      "outputs": []
    },
    {
      "cell_type": "code",
      "metadata": {
        "id": "wGAmrJdPjYrJ",
        "colab_type": "code",
        "colab": {}
      },
      "source": [
        "#convertirlo en un df\n",
        "df_scaled = pd.DataFrame(scaled, columns = df.columns)\n",
        "df_scaled.head(2)"
      ],
      "execution_count": 0,
      "outputs": []
    },
    {
      "cell_type": "code",
      "metadata": {
        "id": "z_gEIAcfj7Ke",
        "colab_type": "code",
        "colab": {}
      },
      "source": [
        "plt.figure(figsize=(12.5,4.5))\n",
        "plt.plot(df_scaled.BTC, label= 'BTC')\n",
        "plt.plot(df_scaled.LTC, label='LTC')\n",
        "plt.plot(df_scaled.ETH, label='ETH')\n",
        "plt.title(\"Precio de cierre de criptomonedas \")\n",
        "plt.xlabel('del 1 de mayo 2019, hasta el 14 de mayo 2020')\n",
        "plt.ylabel('Precio de cierre en USD$')\n",
        "plt.legend(loc='upper left')\n",
        "plt.show()"
      ],
      "execution_count": 0,
      "outputs": []
    },
    {
      "cell_type": "markdown",
      "metadata": {
        "id": "SgKhcgYWk7l3",
        "colab_type": "text"
      },
      "source": [
        "### Verificar:\n",
        "1. [x] volatividad\n",
        "1. [x] promedio\n",
        "1. [x] correlación\n",
        "1.  [x] Visualizar la correlación"
      ]
    },
    {
      "cell_type": "code",
      "metadata": {
        "id": "UAwZzEZFkX7j",
        "colab_type": "code",
        "colab": {}
      },
      "source": [
        "#volatividad\n",
        "df_scaled.std()"
      ],
      "execution_count": 0,
      "outputs": []
    },
    {
      "cell_type": "code",
      "metadata": {
        "id": "VkFNS4M3lok-",
        "colab_type": "code",
        "colab": {}
      },
      "source": [
        "# Promedio diario\n",
        "df_scaled.mean()"
      ],
      "execution_count": 0,
      "outputs": []
    },
    {
      "cell_type": "code",
      "metadata": {
        "id": "bWoSqrT8lw3U",
        "colab_type": "code",
        "colab": {}
      },
      "source": [
        "#correlación \n",
        "df_scaled.corr()"
      ],
      "execution_count": 0,
      "outputs": []
    },
    {
      "cell_type": "code",
      "metadata": {
        "id": "YKXUT1ccl1JA",
        "colab_type": "code",
        "colab": {}
      },
      "source": [
        "plt.figure(figsize=(10, 4.5))\n",
        "sns.heatmap(df_scaled.corr(), annot=True, fmt=' .2%')\n",
        "plt.show()"
      ],
      "execution_count": 0,
      "outputs": []
    },
    {
      "cell_type": "markdown",
      "metadata": {
        "id": "LdaCX8tUmUaI",
        "colab_type": "text"
      },
      "source": [
        "### Crear variables (ds, y)"
      ]
    },
    {
      "cell_type": "code",
      "metadata": {
        "id": "rqbgepjVmJoD",
        "colab_type": "code",
        "colab": {}
      },
      "source": [
        "# Craer columns ds\n",
        "\n",
        "rng= pd.date_range(start='2019-05-15', end='2020-05-13', freq='D')\n",
        "df['ds'] = rng\n",
        "df.head(2)"
      ],
      "execution_count": 0,
      "outputs": []
    },
    {
      "cell_type": "code",
      "metadata": {
        "id": "78UdN-gKvCYn",
        "colab_type": "code",
        "colab": {}
      },
      "source": [
        "df.shape"
      ],
      "execution_count": 0,
      "outputs": []
    },
    {
      "cell_type": "code",
      "metadata": {
        "id": "r5XXMLhHxQY4",
        "colab_type": "code",
        "colab": {}
      },
      "source": [
        "#seleccionar conjunto los datos de entrenamiento para BTC-LTC, ETH\n",
        "btc_train = df[['BTC', 'ds']]\n",
        "ltc_train = df[['LTC', 'ds']]\n",
        "eth_train = df[['ETH', 'ds']]"
      ],
      "execution_count": 0,
      "outputs": []
    },
    {
      "cell_type": "code",
      "metadata": {
        "id": "0kCuVKp7yShy",
        "colab_type": "code",
        "colab": {}
      },
      "source": [
        "#Renombrar columnas\n",
        "btc_train.columns= ['y', 'ds']\n",
        "ltc_train.columns = ['y', 'ds']\n",
        "\n",
        "eth_train.columns = ['y', 'ds']"
      ],
      "execution_count": 0,
      "outputs": []
    },
    {
      "cell_type": "code",
      "metadata": {
        "id": "2pOo5ZKOyjtf",
        "colab_type": "code",
        "colab": {}
      },
      "source": [
        "#revertir el orden de las columnas\n",
        "btc_train = btc_train.loc[:, ::-1]\n",
        "ltc_train = ltc_train.loc[:, :: -1]\n",
        "eth_train = eth_train.loc[:, :: -1]"
      ],
      "execution_count": 0,
      "outputs": []
    },
    {
      "cell_type": "markdown",
      "metadata": {
        "id": "gRPZm_R00WoA",
        "colab_type": "text"
      },
      "source": [
        "### Pronosticar con el Modelo fbprophet"
      ]
    },
    {
      "cell_type": "code",
      "metadata": {
        "id": "r67UZYf2zq3J",
        "colab_type": "code",
        "colab": {}
      },
      "source": [
        "import fbprophet\n",
        "from fbprophet import Prophet"
      ],
      "execution_count": 0,
      "outputs": []
    },
    {
      "cell_type": "code",
      "metadata": {
        "id": "lW7NV5i60xML",
        "colab_type": "code",
        "colab": {}
      },
      "source": [
        "m = Prophet()"
      ],
      "execution_count": 0,
      "outputs": []
    },
    {
      "cell_type": "code",
      "metadata": {
        "id": "q2kQKLz03Wv3",
        "colab_type": "code",
        "colab": {}
      },
      "source": [
        "m.fit(btc_train)"
      ],
      "execution_count": 0,
      "outputs": []
    },
    {
      "cell_type": "code",
      "metadata": {
        "id": "exyLm6VF1bGU",
        "colab_type": "code",
        "colab": {}
      },
      "source": [
        "#pronostico de 100 days\n",
        "future_dates = m.make_future_dataframe(periods=100)\n",
        "future_dates.shape"
      ],
      "execution_count": 0,
      "outputs": []
    },
    {
      "cell_type": "code",
      "metadata": {
        "id": "Tr-QU51Q2FoG",
        "colab_type": "code",
        "colab": {}
      },
      "source": [
        "predicted = m.predict(future_dates)\n",
        "m.plot(predicted, figsize=(12,4.5))"
      ],
      "execution_count": 0,
      "outputs": []
    },
    {
      "cell_type": "code",
      "metadata": {
        "id": "MZRzGQSK2UV2",
        "colab_type": "code",
        "colab": {}
      },
      "source": [
        "m.plot_components(predicted)"
      ],
      "execution_count": 0,
      "outputs": []
    },
    {
      "cell_type": "code",
      "metadata": {
        "id": "Y5MaJLqh2wVi",
        "colab_type": "code",
        "colab": {}
      },
      "source": [
        "resultados = predicted.set_index('ds')\n",
        "resultados.tail()"
      ],
      "execution_count": 0,
      "outputs": []
    },
    {
      "cell_type": "code",
      "metadata": {
        "id": "xc0ZZ8a724hp",
        "colab_type": "code",
        "colab": {}
      },
      "source": [
        "results = resultados.loc['2020-05-16': '2020-08-21']"
      ],
      "execution_count": 0,
      "outputs": []
    },
    {
      "cell_type": "code",
      "metadata": {
        "id": "u7_r648e7MrY",
        "colab_type": "code",
        "colab": {}
      },
      "source": [
        "results.yhat.describe()"
      ],
      "execution_count": 0,
      "outputs": []
    },
    {
      "cell_type": "markdown",
      "metadata": {
        "id": "7eyClVpE9jYx",
        "colab_type": "text"
      },
      "source": [
        "# Resultado del  Pronóstico Bitcoin  \n",
        "El precio de está criptomoneda tendra una tendencia a la baja para los proxímos 100 días, podemos ver en este período de predicción su  precio maxímo será de **7, 848.88 Dolares**, su precio mínimo de **7,558.22 Dolares**. el precio promedio es de **7,686.55**"
      ]
    },
    {
      "cell_type": "markdown",
      "metadata": {
        "id": "ypwvjo5TPGZi",
        "colab_type": "text"
      },
      "source": [
        "# Predecir el precio del Litecoin (LTC)-para los próximos 100 días"
      ]
    },
    {
      "cell_type": "code",
      "metadata": {
        "id": "OnZzeJ7686fB",
        "colab_type": "code",
        "colab": {}
      },
      "source": [
        "model_ltc = Prophet()\n",
        "model_ltc.fit(ltc_train)"
      ],
      "execution_count": 0,
      "outputs": []
    },
    {
      "cell_type": "code",
      "metadata": {
        "id": "rLe8JD54Pd4Y",
        "colab_type": "code",
        "colab": {}
      },
      "source": [
        "future_dates_ltc = model_ltc.make_future_dataframe(periods=100, freq='D')"
      ],
      "execution_count": 0,
      "outputs": []
    },
    {
      "cell_type": "code",
      "metadata": {
        "id": "GOl3IDzXPzzw",
        "colab_type": "code",
        "colab": {}
      },
      "source": [
        "future_dates.shape"
      ],
      "execution_count": 0,
      "outputs": []
    },
    {
      "cell_type": "code",
      "metadata": {
        "id": "1xJx4s1CP7tL",
        "colab_type": "code",
        "colab": {}
      },
      "source": [
        "predict_ltc = model_ltc.predict(future_dates_ltc)\n",
        "model_ltc.plot(predict_ltc)"
      ],
      "execution_count": 0,
      "outputs": []
    },
    {
      "cell_type": "code",
      "metadata": {
        "id": "mSE_Wbc2QQ2N",
        "colab_type": "code",
        "colab": {}
      },
      "source": [
        "model_ltc.plot_components(predict_ltc)"
      ],
      "execution_count": 0,
      "outputs": []
    },
    {
      "cell_type": "code",
      "metadata": {
        "id": "R1REUbhWQWLh",
        "colab_type": "code",
        "colab": {}
      },
      "source": [
        "resultado_ltc = predict_ltc.loc['2020-05-15': ]\n",
        "resultado_ltc.yhat.describe()"
      ],
      "execution_count": 0,
      "outputs": []
    },
    {
      "cell_type": "markdown",
      "metadata": {
        "id": "aigbpwvERmWq",
        "colab_type": "text"
      },
      "source": [
        "# Resultado de la predicción para el Litecoin  \n",
        "El precio de está criptomoneda tendra una tendencia a la baja para los proxímos 100 días, podemos ver en este período de predicción su maxímo precio será de **56.81**, comprado con su precio máximo original estaría de 139.38, estaría en un **-82.59** dolares menos, esto representa que alcanzaria un precio maxímo de un **59% menos**."
      ]
    },
    {
      "cell_type": "markdown",
      "metadata": {
        "id": "IeS8m9VhUyEz",
        "colab_type": "text"
      },
      "source": [
        "# Proyección del Ethereum (ETH"
      ]
    },
    {
      "cell_type": "code",
      "metadata": {
        "id": "Q8_2nluyT8GA",
        "colab_type": "code",
        "colab": {}
      },
      "source": [
        "model_eth = Prophet()\n",
        "model_eth.fit(eth_train)"
      ],
      "execution_count": 0,
      "outputs": []
    },
    {
      "cell_type": "code",
      "metadata": {
        "id": "OelyrUVNU7YQ",
        "colab_type": "code",
        "colab": {}
      },
      "source": [
        "futuredays_eth = model_eth.make_future_dataframe(periods=100, freq='D', include_history=True)"
      ],
      "execution_count": 0,
      "outputs": []
    },
    {
      "cell_type": "code",
      "metadata": {
        "id": "ziIec_HZVc09",
        "colab_type": "code",
        "colab": {}
      },
      "source": [
        "prediccion = model_eth.predict(futuredays_eth)"
      ],
      "execution_count": 0,
      "outputs": []
    },
    {
      "cell_type": "code",
      "metadata": {
        "id": "q0ILm5ihWhfW",
        "colab_type": "code",
        "colab": {}
      },
      "source": [
        "model_eth.plot(prediccion)"
      ],
      "execution_count": 0,
      "outputs": []
    },
    {
      "cell_type": "code",
      "metadata": {
        "id": "xyNO4TqaWril",
        "colab_type": "code",
        "colab": {}
      },
      "source": [
        "model_eth.plot_components(prediccion)"
      ],
      "execution_count": 0,
      "outputs": []
    },
    {
      "cell_type": "code",
      "metadata": {
        "id": "4Jxy7Oc4Yoq8",
        "colab_type": "code",
        "colab": {}
      },
      "source": [
        "prediccion.loc['2020-05-15': ].yhat.describe()"
      ],
      "execution_count": 0,
      "outputs": []
    },
    {
      "cell_type": "markdown",
      "metadata": {
        "id": "yy2_t3XmaHU7",
        "colab_type": "text"
      },
      "source": [
        "# Resultados ETH  \n",
        "Para el mes de julio comenzara el  aumento de su precio donde podrá alcanzar un precio máximo de **$210.99 Dolares**, el precio mínimo que alcanzara dentro de los próximos 100 días será de **160.98** Dolares"
      ]
    }
  ]
}