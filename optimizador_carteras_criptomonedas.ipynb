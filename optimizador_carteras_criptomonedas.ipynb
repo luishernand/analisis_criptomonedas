{
  "nbformat": 4,
  "nbformat_minor": 0,
  "metadata": {
    "colab": {
      "name": "optimizador carteras_criptomonedas.ipynb",
      "provenance": [],
      "private_outputs": true,
      "collapsed_sections": [],
      "authorship_tag": "ABX9TyN9fuDYp0NEyry3mF3ImmT0",
      "include_colab_link": true
    },
    "kernelspec": {
      "name": "python3",
      "display_name": "Python 3"
    }
  },
  "cells": [
    {
      "cell_type": "markdown",
      "metadata": {
        "id": "view-in-github",
        "colab_type": "text"
      },
      "source": [
        "<a href=\"https://colab.research.google.com/github/luishernand/analisis_criptomonedas/blob/master/optimizador_carteras_criptomonedas.ipynb\" target=\"_parent\"><img src=\"https://colab.research.google.com/assets/colab-badge.svg\" alt=\"Open In Colab\"/></a>"
      ]
    },
    {
      "cell_type": "markdown",
      "metadata": {
        "id": "2oWk9AUCD5YA",
        "colab_type": "text"
      },
      "source": [
        "# Optimizador de cartera para las criptomonedas"
      ]
    },
    {
      "cell_type": "code",
      "metadata": {
        "id": "9EeZDkKrDThf",
        "colab_type": "code",
        "colab": {}
      },
      "source": [
        "import pandas as pd\n",
        "import numpy as np\n",
        "import matplotlib.pyplot as plt\n",
        "import seaborn as sns \n",
        "%matplotlib inline"
      ],
      "execution_count": 0,
      "outputs": []
    },
    {
      "cell_type": "markdown",
      "metadata": {
        "id": "xoVPY470EPN0",
        "colab_type": "text"
      },
      "source": [
        "### Cargar los datasets"
      ]
    },
    {
      "cell_type": "code",
      "metadata": {
        "id": "dzS62977EMod",
        "colab_type": "code",
        "colab": {}
      },
      "source": [
        "#con googe colab\n",
        "from google.colab import files\n",
        "uploaded = files.upload()"
      ],
      "execution_count": 0,
      "outputs": []
    },
    {
      "cell_type": "code",
      "metadata": {
        "id": "-XMFWt59E1oi",
        "colab_type": "code",
        "colab": {}
      },
      "source": [
        "btc = pd.read_csv('BTC_USD_2019-05-14_2020-05-13-CoinDesk.csv', index_col = 'Date', parse_dates=True)  \n",
        "ltc = pd.read_csv('LTC_USD_2019-05-14_2020-05-13-CoinDesk.csv', index_col = 'Date', parse_dates=True)\n",
        "eth = pd.read_csv('ETH_USD_2019-05-14_2020-05-13-CoinDesk.csv', index_col = 'Date', parse_dates=True)"
      ],
      "execution_count": 0,
      "outputs": []
    },
    {
      "cell_type": "code",
      "metadata": {
        "id": "LH6CTNg3GZvh",
        "colab_type": "code",
        "colab": {}
      },
      "source": [
        "print('bitcoin')\n",
        "btc.head(2)"
      ],
      "execution_count": 0,
      "outputs": []
    },
    {
      "cell_type": "code",
      "metadata": {
        "id": "H8Of4H6THUVW",
        "colab_type": "code",
        "colab": {}
      },
      "source": [
        "print('Litecoin')\n",
        "ltc.head(2)"
      ],
      "execution_count": 0,
      "outputs": []
    },
    {
      "cell_type": "code",
      "metadata": {
        "id": "9UiNyEShHfqR",
        "colab_type": "code",
        "colab": {}
      },
      "source": [
        "print('ETH')\n",
        "eth.head(2)"
      ],
      "execution_count": 0,
      "outputs": []
    },
    {
      "cell_type": "markdown",
      "metadata": {
        "id": "scTE2w2cHyYD",
        "colab_type": "text"
      },
      "source": [
        "# Limpieza de los DataFrame  \n",
        "\n",
        "1. [x] seleccionar solo la columana de precio de cada df  \n",
        "1. [x] Renombrar las columnas de precio"
      ]
    },
    {
      "cell_type": "code",
      "metadata": {
        "id": "LNdOzmmUHsmG",
        "colab_type": "code",
        "colab": {}
      },
      "source": [
        "columns = ['BTC']\n",
        "btc = btc[['Closing Price (USD)']]\n",
        "btc.columns = columns"
      ],
      "execution_count": 0,
      "outputs": []
    },
    {
      "cell_type": "code",
      "metadata": {
        "id": "XsaWx3fAHtpX",
        "colab_type": "code",
        "colab": {}
      },
      "source": [
        "btc.head(2)"
      ],
      "execution_count": 0,
      "outputs": []
    },
    {
      "cell_type": "code",
      "metadata": {
        "id": "cn3DNDHNHt6V",
        "colab_type": "code",
        "colab": {}
      },
      "source": [
        "columns = ['ETH']\n",
        "eth = eth[['Closing Price (USD)']]\n",
        "eth.columns = columns\n",
        "eth.head(2)"
      ],
      "execution_count": 0,
      "outputs": []
    },
    {
      "cell_type": "code",
      "metadata": {
        "id": "TdONHQbYHuJX",
        "colab_type": "code",
        "colab": {}
      },
      "source": [
        "columns = ['LTC']\n",
        "ltc = ltc[['Closing Price (USD)']]\n",
        "ltc.columns = columns\n",
        "ltc.head(2)"
      ],
      "execution_count": 0,
      "outputs": []
    },
    {
      "cell_type": "markdown",
      "metadata": {
        "id": "Au0knVX0IcZ7",
        "colab_type": "text"
      },
      "source": [
        "# Crear un solo df"
      ]
    },
    {
      "cell_type": "code",
      "metadata": {
        "id": "o_PnEjr5IWnJ",
        "colab_type": "code",
        "colab": {}
      },
      "source": [
        "df = pd.concat([btc,eth, ltc], axis = 'columns')"
      ],
      "execution_count": 0,
      "outputs": []
    },
    {
      "cell_type": "code",
      "metadata": {
        "id": "C43nq61GIiiS",
        "colab_type": "code",
        "colab": {}
      },
      "source": [
        "df.head()"
      ],
      "execution_count": 0,
      "outputs": []
    },
    {
      "cell_type": "markdown",
      "metadata": {
        "id": "-AFZYkTQIvnf",
        "colab_type": "text"
      },
      "source": [
        "### Análisis de optimización de portafolio  \n",
        "1. Covarianza\n",
        "2. Volatividad/Riesgo\n",
        "3. Retorno"
      ]
    },
    {
      "cell_type": "code",
      "metadata": {
        "id": "ZRvxrglNIkr7",
        "colab_type": "code",
        "colab": {}
      },
      "source": [
        "pip install PyPortfolioOpt"
      ],
      "execution_count": 0,
      "outputs": []
    },
    {
      "cell_type": "code",
      "metadata": {
        "id": "5PCqRN_7I6Hw",
        "colab_type": "code",
        "colab": {}
      },
      "source": [
        "from pypfopt.efficient_frontier import EfficientFrontier\n",
        "from pypfopt import risk_models\n",
        "from pypfopt import expected_returns"
      ],
      "execution_count": 0,
      "outputs": []
    },
    {
      "cell_type": "code",
      "metadata": {
        "id": "n9Zq28D_Ja5D",
        "colab_type": "code",
        "colab": {}
      },
      "source": [
        "#calculo del retorno anual\n",
        "mu = expected_returns.mean_historical_return(df)\n",
        "#Calculo de la volatividad o riesgo\n",
        "s = risk_models.sample_cov(df)"
      ],
      "execution_count": 0,
      "outputs": []
    },
    {
      "cell_type": "code",
      "metadata": {
        "id": "1FUdVgGmKOBp",
        "colab_type": "code",
        "colab": {}
      },
      "source": [
        "#calculo del sharpe ratio\n",
        "ef = EfficientFrontier(mu, s)\n",
        "weigths = ef.max_sharpe()\n",
        "cleaned_weigths = ef.clean_weights()"
      ],
      "execution_count": 0,
      "outputs": []
    },
    {
      "cell_type": "code",
      "metadata": {
        "id": "kUlZhi5rKt6M",
        "colab_type": "code",
        "colab": {}
      },
      "source": [
        "#imprimir los resultados\n",
        "print(cleaned_weigths)\n",
        "ef.portfolio_performance(verbose=True)"
      ],
      "execution_count": 0,
      "outputs": []
    },
    {
      "cell_type": "markdown",
      "metadata": {
        "id": "vbfRamReLGUa",
        "colab_type": "text"
      },
      "source": [
        "#### Calcular los Fondos restantes y su asignación discreta para un de 9500"
      ]
    },
    {
      "cell_type": "code",
      "metadata": {
        "id": "5o1QDaObK9LO",
        "colab_type": "code",
        "colab": {}
      },
      "source": [
        "from pypfopt.discrete_allocation import DiscreteAllocation, get_latest_prices"
      ],
      "execution_count": 0,
      "outputs": []
    },
    {
      "cell_type": "code",
      "metadata": {
        "id": "8VUVvfKiLjFq",
        "colab_type": "code",
        "colab": {}
      },
      "source": [
        " latest_prices = get_latest_prices(df)\n",
        "weights = cleaned_weigths\n",
        "\n",
        "# discreteAllocation da\n",
        "da = DiscreteAllocation(weights, latest_prices, total_portfolio_value=9500)"
      ],
      "execution_count": 0,
      "outputs": []
    },
    {
      "cell_type": "code",
      "metadata": {
        "id": "1Ag5IGv-MJHy",
        "colab_type": "code",
        "colab": {}
      },
      "source": [
        "allocation, leftover = da.lp_portfolio()"
      ],
      "execution_count": 0,
      "outputs": []
    },
    {
      "cell_type": "code",
      "metadata": {
        "id": "_or_oDFtMvd0",
        "colab_type": "code",
        "colab": {}
      },
      "source": [
        "print('Asignación Discreta: ', allocation)\n",
        "print('Fondos Restantes: ${:.2f}'.format(leftover))"
      ],
      "execution_count": 0,
      "outputs": []
    }
  ]
}